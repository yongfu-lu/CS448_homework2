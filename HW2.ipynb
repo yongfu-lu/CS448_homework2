{
 "cells": [
  {
   "cell_type": "markdown",
   "id": "e461fd2c",
   "metadata": {},
   "source": [
    "# This this the implementation of merge sort. \n",
    "Merge sort can sort a list with time complexity of O(nlogn)"
   ]
  },
  {
   "cell_type": "code",
   "execution_count": 2,
   "id": "cbacf23a",
   "metadata": {},
   "outputs": [],
   "source": [
    "#implementation of merge sort\n",
    "def mergeSort(arr):\n",
    "    if len(arr) > 1:\n",
    "\n",
    "        mid = len(arr)//2\n",
    "        L = arr[:mid]\n",
    "        R = arr[mid:]\n",
    "        mergeSort(L)\n",
    "        mergeSort(R)\n",
    "\n",
    "        i = j = k = 0\n",
    "\n",
    "        while i < len(L) and j < len(R):\n",
    "            if L[i] < R[j]:\n",
    "                arr[k] = L[i]\n",
    "                i += 1\n",
    "            else:\n",
    "                arr[k] = R[j]\n",
    "                j += 1\n",
    "            k += 1\n",
    "\n",
    "        while i < len(L):\n",
    "            arr[k] = L[i]\n",
    "            i += 1\n",
    "            k += 1\n",
    "\n",
    "        while j < len(R):\n",
    "            arr[k] = R[j]\n",
    "            j += 1\n",
    "            k += 1\n"
   ]
  },
  {
   "cell_type": "markdown",
   "id": "66243749",
   "metadata": {},
   "source": [
    "# Test the implementation"
   ]
  },
  {
   "cell_type": "code",
   "execution_count": 3,
   "id": "047a2b35",
   "metadata": {},
   "outputs": [
    {
     "name": "stdout",
     "output_type": "stream",
     "text": [
      "Given array is\n",
      "[32, 21, 13, 8, 14, 9]\n",
      "Sorted array is: \n",
      "[8, 9, 13, 14, 21, 32]\n"
     ]
    }
   ],
   "source": [
    "arr = [32, 21, 13, 8, 14, 9]\n",
    "print(\"Given array is\", end=\"\\n\")\n",
    "print(arr)\n",
    "mergeSort(arr)\n",
    "print(\"Sorted array is: \", end=\"\\n\")\n",
    "print(arr)"
   ]
  },
  {
   "cell_type": "code",
   "execution_count": null,
   "id": "1c85a437",
   "metadata": {},
   "outputs": [],
   "source": []
  }
 ],
 "metadata": {
  "kernelspec": {
   "display_name": "Python 3 (ipykernel)",
   "language": "python",
   "name": "python3"
  },
  "language_info": {
   "codemirror_mode": {
    "name": "ipython",
    "version": 3
   },
   "file_extension": ".py",
   "mimetype": "text/x-python",
   "name": "python",
   "nbconvert_exporter": "python",
   "pygments_lexer": "ipython3",
   "version": "3.9.7"
  }
 },
 "nbformat": 4,
 "nbformat_minor": 5
}
